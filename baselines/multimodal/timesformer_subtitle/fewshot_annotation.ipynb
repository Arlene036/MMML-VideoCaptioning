{
 "cells": [
  {
   "cell_type": "code",
   "execution_count": 1,
   "metadata": {},
   "outputs": [
    {
     "name": "stderr",
     "output_type": "stream",
     "text": [
      "/home/qliu3/anaconda3/envs/vvds-env/lib/python3.11/site-packages/tqdm/auto.py:21: TqdmWarning: IProgress not found. Please update jupyter and ipywidgets. See https://ipywidgets.readthedocs.io/en/stable/user_install.html\n",
      "  from .autonotebook import tqdm as notebook_tqdm\n"
     ]
    }
   ],
   "source": [
    "import os\n",
    "import sys\n",
    "import json\n",
    "import av\n",
    "import cv2\n",
    "import numpy as np\n",
    "import torch\n",
    "from tqdm import tqdm\n",
    "from transformers import AutoImageProcessor, AutoTokenizer, VisionEncoderDecoderModel"
   ]
  },
  {
   "cell_type": "code",
   "execution_count": 2,
   "metadata": {},
   "outputs": [],
   "source": [
    "def extract_frames(video_dir, model):\n",
    "    container = av.open(video_dir)\n",
    "\n",
    "    # extract evenly spaced frames from video\n",
    "    seg_len = container.streams.video[0].frames\n",
    "    clip_len = model.config.encoder.num_frames\n",
    "    indices = set(np.linspace(0, seg_len, num=clip_len, endpoint=False).astype(np.int64))\n",
    "    frames = []\n",
    "    container.seek(0)\n",
    "\n",
    "    for i, frame in enumerate(container.decode(video=0)):\n",
    "        if i in indices:\n",
    "            frames.append(frame.to_ndarray(format=\"rgb24\"))\n",
    "    \n",
    "    # check if the number of frames is correct\n",
    "    while len(frames) < clip_len:\n",
    "        frames.append(frames[-1])\n",
    "            \n",
    "    return frames"
   ]
  },
  {
   "cell_type": "code",
   "execution_count": null,
   "metadata": {},
   "outputs": [],
   "source": [
    "device = \"cuda\" if torch.cuda.is_available() else \"cpu\"\n",
    "\n",
    "# Load pretrained processor, tokenizer, and model\n",
    "image_processor = AutoImageProcessor.from_pretrained(\"MCG-NJU/videomae-base\")\n",
    "tokenizer = AutoTokenizer.from_pretrained(\"gpt2\")\n",
    "model = VisionEncoderDecoderModel.from_pretrained(\"Neleac/timesformer-gpt2-video-captioning\").to(device)"
   ]
  },
  {
   "cell_type": "code",
   "execution_count": 6,
   "metadata": {},
   "outputs": [
    {
     "name": "stdout",
     "output_type": "stream",
     "text": [
      "6dLGxtbZ-T0_120.000_130.000.mp4\n",
      "Evaluating 9 videos ...\n"
     ]
    },
    {
     "name": "stderr",
     "output_type": "stream",
     "text": [
      "  0%|          | 0/9 [00:00<?, ?it/s]/home/qliu3/anaconda3/envs/vvds-env/lib/python3.11/site-packages/transformers/feature_extraction_utils.py:149: UserWarning: Creating a tensor from a list of numpy.ndarrays is extremely slow. Please consider converting the list to a single numpy.ndarray with numpy.array() before converting to a tensor. (Triggered internally at ../torch/csrc/utils/tensor_new.cpp:245.)\n",
      "  return torch.tensor(value)\n",
      " 11%|█         | 1/9 [00:03<00:29,  3.69s/it]"
     ]
    },
    {
     "name": "stdout",
     "output_type": "stream",
     "text": [
      "A person is using a razor to carve a tattoo on the leg of a woman who is lying on a bed.\n"
     ]
    },
    {
     "name": "stderr",
     "output_type": "stream",
     "text": [
      " 22%|██▏       | 2/9 [00:04<00:15,  2.27s/it]"
     ]
    },
    {
     "name": "stdout",
     "output_type": "stream",
     "text": [
      "A person is driving a vehicle in a parking lot and then another person is driving a vehicle in a parking lot.\n"
     ]
    },
    {
     "name": "stderr",
     "output_type": "stream",
     "text": [
      " 33%|███▎      | 3/9 [00:06<00:12,  2.02s/it]"
     ]
    },
    {
     "name": "stdout",
     "output_type": "stream",
     "text": [
      "A man is sitting in a chair and is talking to another man who is sitting next to him.\n"
     ]
    },
    {
     "name": "stderr",
     "output_type": "stream",
     "text": [
      " 44%|████▍     | 4/9 [00:07<00:08,  1.65s/it]"
     ]
    },
    {
     "name": "stdout",
     "output_type": "stream",
     "text": [
      "A man is pushing a sled down a snow covered road while another man is talking in the background.\n"
     ]
    },
    {
     "name": "stderr",
     "output_type": "stream",
     "text": [
      " 56%|█████▌    | 5/9 [00:11<00:08,  2.24s/it]"
     ]
    },
    {
     "name": "stdout",
     "output_type": "stream",
     "text": [
      "A man is using a machine to cut a piece of wood into smaller pieces and then puts the pieces back together.\n"
     ]
    },
    {
     "name": "stderr",
     "output_type": "stream",
     "text": [
      " 67%|██████▋   | 6/9 [00:13<00:07,  2.42s/it]"
     ]
    },
    {
     "name": "stdout",
     "output_type": "stream",
     "text": [
      "A man is demonstrating how to use a tool to make a portrait of a man in the woods.\n"
     ]
    },
    {
     "name": "stderr",
     "output_type": "stream",
     "text": [
      " 78%|███████▊  | 7/9 [00:15<00:04,  2.02s/it]"
     ]
    },
    {
     "name": "stdout",
     "output_type": "stream",
     "text": [
      "A man is sitting at a table and talking about how to play a game of Scrabble.\n"
     ]
    },
    {
     "name": "stderr",
     "output_type": "stream",
     "text": [
      " 89%|████████▉ | 8/9 [00:16<00:01,  1.89s/it]"
     ]
    },
    {
     "name": "stdout",
     "output_type": "stream",
     "text": [
      "A group of people are sitting around a table and one of them is sitting on top of a piece of wood.\n"
     ]
    },
    {
     "name": "stderr",
     "output_type": "stream",
     "text": [
      "100%|██████████| 9/9 [00:17<00:00,  1.96s/it]"
     ]
    },
    {
     "name": "stdout",
     "output_type": "stream",
     "text": [
      "A person is showing how to use a remote control on a device that is attached to a phone.\n"
     ]
    },
    {
     "name": "stderr",
     "output_type": "stream",
     "text": [
      "\n"
     ]
    }
   ],
   "source": [
    "# Load video data\n",
    "video_dirs = os.listdir('../../../data/fewshot/raw_video')\n",
    "# skip the following videos\n",
    "video_dirs = [video_dir for video_dir in video_dirs if video_dir.endswith(\".mp4\")]\n",
    "# sort video directories\n",
    "video_dirs.sort()\n",
    "print(video_dirs[0])\n",
    "print(f\"Evaluating {len(video_dirs)} videos ...\")\n",
    "# extract video ids, excluding the \".mp4\" extension\n",
    "video_ids = [video_dir.split(\".mp4\")[0] for video_dir in video_dirs]\n",
    "\n",
    "gen_kwargs = {\n",
    "        \"min_length\": 20, \n",
    "        \"max_length\": 50, \n",
    "        \"num_beams\": 12,\n",
    "    }\n",
    "\n",
    "captions = []\n",
    "\n",
    "for video_dir in tqdm(video_dirs):\n",
    "    file_path = os.path.join('../../../data/fewshot/raw_video', video_dir)\n",
    "    frames = extract_frames(file_path, model)\n",
    "    # generate caption\n",
    "    pixel_values = image_processor(frames, return_tensors=\"pt\", padding=True).pixel_values.to(device)\n",
    "    tokens = model.generate(pixel_values, **gen_kwargs)\n",
    "    caption = tokenizer.batch_decode(tokens, skip_special_tokens=True)[0]\n",
    "    print(\"generated:\", caption)\n",
    "    print(\"ground truth:\", video_dir.split(\".mp4\")[0])\n",
    "    captions.append(caption)"
   ]
  }
 ],
 "metadata": {
  "kernelspec": {
   "display_name": "vvds-env",
   "language": "python",
   "name": "python3"
  },
  "language_info": {
   "codemirror_mode": {
    "name": "ipython",
    "version": 3
   },
   "file_extension": ".py",
   "mimetype": "text/x-python",
   "name": "python",
   "nbconvert_exporter": "python",
   "pygments_lexer": "ipython3",
   "version": "3.11.10"
  }
 },
 "nbformat": 4,
 "nbformat_minor": 2
}

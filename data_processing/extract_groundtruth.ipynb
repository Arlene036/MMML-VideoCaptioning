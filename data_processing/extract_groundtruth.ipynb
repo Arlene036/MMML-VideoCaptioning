{
 "cells": [
  {
   "cell_type": "markdown",
   "metadata": {},
   "source": [
    "Extract groundtruth from sample file to the same format as all outputs. Skip unwanted ids."
   ]
  },
  {
   "cell_type": "code",
   "execution_count": 1,
   "metadata": {},
   "outputs": [],
   "source": [
    "import json"
   ]
  },
  {
   "cell_type": "code",
   "execution_count": 2,
   "metadata": {},
   "outputs": [],
   "source": [
    "in_path = \"../data/mix120/mix120.json\"\n",
    "out_path = \"../output/mix120_groundtruth.json\""
   ]
  },
  {
   "cell_type": "code",
   "execution_count": 3,
   "metadata": {},
   "outputs": [],
   "source": [
    "skipped_ids = [\"p_o6NQX7lmE_0.000_10.000\", \"xJ-6ewqMyxY_410.000_420.000\", \"niJg7Q1XLyU_50.000_60.000\", \"wj-gglKQ3KI_30.000_40.000\"]"
   ]
  },
  {
   "cell_type": "code",
   "execution_count": 4,
   "metadata": {},
   "outputs": [],
   "source": [
    "output = {}\n",
    "groundtruth = []"
   ]
  },
  {
   "cell_type": "code",
   "execution_count": 5,
   "metadata": {},
   "outputs": [],
   "source": [
    "with open(in_path, \"r\") as f:\n",
    "    data = json.load(f)\n",
    "\n",
    "for video in data:\n",
    "    video_id = video[\"video_id\"]\n",
    "    if video_id in skipped_ids:\n",
    "        continue\n",
    "    caption = video[\"caption\"]\n",
    "    groundtruth.append({\"video_id\": video_id, \"caption\": caption})"
   ]
  },
  {
   "cell_type": "code",
   "execution_count": 7,
   "metadata": {},
   "outputs": [],
   "source": [
    "groundtruth_sorted = sorted(groundtruth, key=lambda x: x[\"video_id\"])\n",
    "output = {\"annotations\": groundtruth_sorted}\n",
    "\n",
    "with open(out_path, \"w\") as f:\n",
    "    json.dump(output, f, indent=4)"
   ]
  },
  {
   "cell_type": "code",
   "execution_count": 3,
   "metadata": {},
   "outputs": [],
   "source": [
    "# read in the groundtruth file\n",
    "with open(out_path, \"r\") as f:\n",
    "    data = json.load(f)"
   ]
  },
  {
   "cell_type": "code",
   "execution_count": 4,
   "metadata": {},
   "outputs": [],
   "source": [
    "# for each item in the groundtruth file, add the \"object_labels\" field\n",
    "for item in data[\"annotations\"]:\n",
    "    item[\"object_labels\"] = \"\"\n",
    "    \n",
    "# write the updated groundtruth file\n",
    "with open(out_path, \"w\") as f:\n",
    "    json.dump(data, f, indent=4)"
   ]
  }
 ],
 "metadata": {
  "kernelspec": {
   "display_name": "mmml",
   "language": "python",
   "name": "python3"
  },
  "language_info": {
   "codemirror_mode": {
    "name": "ipython",
    "version": 3
   },
   "file_extension": ".py",
   "mimetype": "text/x-python",
   "name": "python",
   "nbconvert_exporter": "python",
   "pygments_lexer": "ipython3",
   "version": "3.11.10"
  }
 },
 "nbformat": 4,
 "nbformat_minor": 2
}

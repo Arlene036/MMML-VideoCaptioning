{
 "cells": [
  {
   "cell_type": "code",
   "execution_count": 2,
   "metadata": {},
   "outputs": [],
   "source": [
    "# autoload to avoid restarting the kernel\n",
    "# set the path to the parent directory\n",
    "import sys\n",
    "sys.path.append('../')\n",
    "\n",
    "from evaluation.evaluation_caption import evaluate_captions"
   ]
  },
  {
   "cell_type": "code",
   "execution_count": 3,
   "metadata": {},
   "outputs": [],
   "source": [
    "%load_ext autoreload\n",
    "%autoreload 2"
   ]
  },
  {
   "cell_type": "code",
   "execution_count": 4,
   "metadata": {},
   "outputs": [],
   "source": [
    "ground_truth_file = 'sample_true.json'\n",
    "generation_file = 'sample_generated.json'\n",
    "\n",
    "# check if the files exist\n",
    "try:\n",
    "    with open(ground_truth_file) as f:\n",
    "        pass\n",
    "    with open(generation_file) as f:\n",
    "        pass\n",
    "except FileNotFoundError:\n",
    "    print('Files not found')\n",
    "    exit()"
   ]
  },
  {
   "cell_type": "code",
   "execution_count": 5,
   "metadata": {},
   "outputs": [
    {
     "name": "stdout",
     "output_type": "stream",
     "text": [
      "Loading ground truth captions from sample_generated.json\n",
      "loading annotations into memory...\n",
      "0:00:00.001204\n",
      "creating index...\n",
      "index created!\n",
      "Loading generated captions from sample_true.json\n",
      "Loading and preparing results...     \n",
      "DONE (t=0.00s)\n",
      "creating index...\n",
      "index created!\n",
      "Starting evaluation\n",
      "total test num:5\n",
      "tokenization...\n"
     ]
    },
    {
     "name": "stderr",
     "output_type": "stream",
     "text": [
      "PTBTokenizer tokenized 127 tokens at 1779.96 tokens per second.\n",
      "PTBTokenizer tokenized 130 tokens at 2097.95 tokens per second.\n"
     ]
    },
    {
     "name": "stdout",
     "output_type": "stream",
     "text": [
      "setting up scorers...\n",
      "computing Bleu score...\n",
      "computing METEOR score...\n",
      "computing Rouge score...\n",
      "computing CIDEr score...\n",
      "Evaluation results: {'Bleu_1': 56.25, 'Bleu_2': 37.67, 'Bleu_3': 24.05, 'Bleu_4': 13.01, 'METEOR': 29.43, 'ROUGE_L': np.float64(52.4), 'CIDEr': np.float64(167.83)}\n"
     ]
    },
    {
     "data": {
      "text/plain": [
       "{'Bleu_1': 56.25,\n",
       " 'Bleu_2': 37.67,\n",
       " 'Bleu_3': 24.05,\n",
       " 'Bleu_4': 13.01,\n",
       " 'METEOR': 29.43,\n",
       " 'ROUGE_L': np.float64(52.4),\n",
       " 'CIDEr': np.float64(167.83)}"
      ]
     },
     "execution_count": 5,
     "metadata": {},
     "output_type": "execute_result"
    }
   ],
   "source": [
    "# evaluate the captions\n",
    "evaluate_captions(ground_truth_file, generation_file)"
   ]
  }
 ],
 "metadata": {
  "kernelspec": {
   "display_name": "Python 3",
   "language": "python",
   "name": "python3"
  },
  "language_info": {
   "codemirror_mode": {
    "name": "ipython",
    "version": 3
   },
   "file_extension": ".py",
   "mimetype": "text/x-python",
   "name": "python",
   "nbconvert_exporter": "python",
   "pygments_lexer": "ipython3",
   "version": "3.11.10"
  }
 },
 "nbformat": 4,
 "nbformat_minor": 2
}
